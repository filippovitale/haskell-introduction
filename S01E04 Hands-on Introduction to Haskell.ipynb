{
 "cells": [
  {
   "cell_type": "markdown",
   "metadata": {
    "slideshow": {
     "slide_type": "slide"
    }
   },
   "source": [
    "### Recap\n",
    "\n",
    "```haskell\n",
    ":i Eq\n",
    "class Eq a where\n",
    "  (==) :: a -> a -> Bool\n",
    "  (/=) :: a -> a -> Bool\n",
    "\n",
    ":i Show\n",
    "class Show a where\n",
    "  show :: a -> String\n",
    "\n",
    ":i Enum\n",
    "class Enum a where\n",
    "  toEnum :: Int -> a\n",
    "  fromEnum :: a -> Int\n",
    "```"
   ]
  },
  {
   "cell_type": "markdown",
   "metadata": {
    "slideshow": {
     "slide_type": "subslide"
    }
   },
   "source": [
    "### Recap\n",
    "\n",
    "```haskell\n",
    "data Cell = Cell Int Int\n",
    "\n",
    "type Board = [[Cell]]\n",
    "\n",
    "type Snake = [Cell]\n",
    "\n",
    "data Direction = North | East | South | West\n",
    "  deriving (Show, Eq, Enum)\n",
    "```"
   ]
  },
  {
   "cell_type": "markdown",
   "metadata": {
    "slideshow": {
     "slide_type": "slide"
    }
   },
   "source": [
    "### Ground Rules\n",
    "\n",
    "* 2 mutually-exclusive modes: 1 big conversation **or** multiple ones\n",
    "* a question is allowed anytime: __everybody can answer__ and answers could be postponed\n",
    "* no prejudice / no discrimination / no tech-fanaticism\n",
    "* experiment first, then abstraction and theory behind later"
   ]
  },
  {
   "cell_type": "markdown",
   "metadata": {
    "slideshow": {
     "slide_type": "subslide"
    }
   },
   "source": [
    "# Work in progress"
   ]
  },
  {
   "cell_type": "markdown",
   "metadata": {
    "slideshow": {
     "slide_type": "slide"
    }
   },
   "source": [
    "### Session Feedback\n",
    "\n",
    "I need your feedback to better tune this series of sessions\n",
    "Please ping me on Slack @fvitale"
   ]
  },
  {
   "cell_type": "markdown",
   "metadata": {
    "slideshow": {
     "slide_type": "subslide"
    }
   },
   "source": [
    "\"How do we convince people that in programming simplicity and clarity\n",
    "—in short: what mathematicians call \"elegance\"— are not a dispensable luxury, \n",
    "but a crucial matter that decides between success and failure?\"\n",
    "\n",
    "–– [Edsger W. Dijkstra, 1982](https://www.cs.utexas.edu/users/EWD/transcriptions/EWD06xx/EWD648.html)"
   ]
  }
 ],
 "metadata": {
  "celltoolbar": "Slideshow",
  "kernelspec": {
   "display_name": "Haskell",
   "language": "haskell",
   "name": "haskell"
  }
 },
 "nbformat": 4,
 "nbformat_minor": 2
}
