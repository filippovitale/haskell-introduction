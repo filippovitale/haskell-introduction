{
 "cells": [
  {
   "cell_type": "markdown",
   "metadata": {
    "slideshow": {
     "slide_type": "slide"
    }
   },
   "source": [
    "### Recap\n",
    "\n",
    "#### Basic Syntax\n",
    "```\n",
    "\"abc\" == ['a', 'b', 'c']          -- :: [Char]\n",
    "\n",
    "head :: [a] -> a                  -- 1-arg function\n",
    "take :: Int -> [a] -> [a]         -- 2-args function\n",
    "gimme2ofThem = take 2             -- currying\n",
    "```\n",
    "\n",
    "#### Function Composition\n",
    "```\n",
    "(last . take 10) [1..]            -- (g ∘ f )(x) = g(f(x))\n",
    "\n",
    ":t (.)\n",
    "(.) :: (b -> c) -> (a -> b) -> a -> c\n",
    "```\n",
    "\n",
    "#### Solved a Problem\n",
    "```\n",
    "sum $ filter multiple_of_3_or_5 [1..999]\n",
    "sum [x | x <- [1..999], mod x 3 == 0 || mod x 5 == 0]\n",
    "```"
   ]
  },
  {
   "cell_type": "markdown",
   "metadata": {
    "slideshow": {
     "slide_type": "subslide"
    }
   },
   "source": [
    "### Ground Rules\n",
    "\n",
    "* 2 mutually-exclusive modes: 1 big conversation **or** multiple ones\n",
    "* a question is allowed anytime: __everybody can answer__ and answers could be postponed\n",
    "* no prejudice / no discrimination / no tech-fanaticism\n",
    "* experiment first, then abstraction and theory behind later"
   ]
  },
  {
   "cell_type": "markdown",
   "metadata": {
    "slideshow": {
     "slide_type": "subslide"
    }
   },
   "source": [
    "```bash\n",
    "# spinup this image ---\\\n",
    "#                      |\n",
    "#                      ,\n",
    "\n",
    "docker run -it --rm haskell ghci\n",
    "\n",
    "#                            ^\n",
    "#                            |\n",
    "# running the Haskell REPL --|\n",
    "\n",
    "# `-it`  <-- interactive mode\n",
    "# `--rm` <-- remove the container when terminated\n",
    "```"
   ]
  },
  {
   "cell_type": "markdown",
   "metadata": {
    "slideshow": {
     "slide_type": "slide"
    }
   },
   "source": [
    "### Python implementation\n",
    "\n",
    "```python\n",
    "import functools\n",
    "\n",
    "@functools.lru_cache()\n",
    "def fib(n):\n",
    "    if n < 2:\n",
    "        return n\n",
    "    else:\n",
    "        return fib(n - 2) + fib(n - 1)\n",
    "```"
   ]
  },
  {
   "cell_type": "markdown",
   "metadata": {
    "slideshow": {
     "slide_type": "subslide"
    }
   },
   "source": [
    "### Python implementation\n",
    "\n",
    "```python\n",
    "import functools\n",
    "\n",
    "@functools.lru_cache()\n",
    "def fib(n):\n",
    "    if n < 2:\n",
    "        return n\n",
    "    else:\n",
    "        return fib(n - 2) + fib(n - 1)\n",
    "```\n",
    "\n",
    "\n",
    "```\n",
    "%time fib(35)\n",
    "# CPU times: user 5 µs, sys: 0 ns, total: 5 µs\n",
    "# Wall time: 9.06 µs\n",
    "\n",
    "fib.cache_info()\n",
    "# CacheInfo(hits=103, misses=36, maxsize=128, currsize=36)\n",
    "```"
   ]
  },
  {
   "cell_type": "code",
   "execution_count": 1,
   "metadata": {
    "slideshow": {
     "slide_type": "subslide"
    }
   },
   "outputs": [],
   "source": [
    "-- @functools.lru_cache()\n",
    "-- def fib(n):\n",
    "--     if n < 2:\n",
    "--         return n\n",
    "--     else:\n",
    "--         return fib(n - 2) + fib(n - 1)\n",
    "-- \n",
    "-- fibs = [fib(n) for n in range(36)]\n",
    "\n",
    "-- :{\n",
    "fib 0 = 0\n",
    "fib 1 = 1\n",
    "fib n = fib (n - 2) + fib (n - 1)\n",
    "\n",
    "fibs = map fib [0..]\n",
    "-- :}"
   ]
  },
  {
   "cell_type": "code",
   "execution_count": 2,
   "metadata": {
    "slideshow": {
     "slide_type": "subslide"
    }
   },
   "outputs": [
    {
     "data": {
      "text/html": [
       "<style>/* Styles used for the Hoogle display in the pager */\n",
       ".hoogle-doc {\n",
       "display: block;\n",
       "padding-bottom: 1.3em;\n",
       "padding-left: 0.4em;\n",
       "}\n",
       ".hoogle-code {\n",
       "display: block;\n",
       "font-family: monospace;\n",
       "white-space: pre;\n",
       "}\n",
       ".hoogle-text {\n",
       "display: block;\n",
       "}\n",
       ".hoogle-name {\n",
       "color: green;\n",
       "font-weight: bold;\n",
       "}\n",
       ".hoogle-head {\n",
       "font-weight: bold;\n",
       "}\n",
       ".hoogle-sub {\n",
       "display: block;\n",
       "margin-left: 0.4em;\n",
       "}\n",
       ".hoogle-package {\n",
       "font-weight: bold;\n",
       "font-style: italic;\n",
       "}\n",
       ".hoogle-module {\n",
       "font-weight: bold;\n",
       "}\n",
       ".hoogle-class {\n",
       "font-weight: bold;\n",
       "}\n",
       ".get-type {\n",
       "color: green;\n",
       "font-weight: bold;\n",
       "font-family: monospace;\n",
       "display: block;\n",
       "white-space: pre-wrap;\n",
       "}\n",
       ".show-type {\n",
       "color: green;\n",
       "font-weight: bold;\n",
       "font-family: monospace;\n",
       "margin-left: 1em;\n",
       "}\n",
       ".mono {\n",
       "font-family: monospace;\n",
       "display: block;\n",
       "}\n",
       ".err-msg {\n",
       "color: red;\n",
       "font-style: italic;\n",
       "font-family: monospace;\n",
       "white-space: pre;\n",
       "display: block;\n",
       "}\n",
       "#unshowable {\n",
       "color: red;\n",
       "font-weight: bold;\n",
       "}\n",
       ".err-msg.in.collapse {\n",
       "padding-top: 0.7em;\n",
       "}\n",
       ".highlight-code {\n",
       "white-space: pre;\n",
       "font-family: monospace;\n",
       "}\n",
       ".suggestion-warning { \n",
       "font-weight: bold;\n",
       "color: rgb(200, 130, 0);\n",
       "}\n",
       ".suggestion-error { \n",
       "font-weight: bold;\n",
       "color: red;\n",
       "}\n",
       ".suggestion-name {\n",
       "font-weight: bold;\n",
       "}\n",
       "</style><span class='get-type'>(!!) :: forall a. [a] -> Int -> a</span>"
      ],
      "text/plain": [
       "(!!) :: forall a. [a] -> Int -> a"
      ]
     },
     "metadata": {},
     "output_type": "display_data"
    },
    {
     "data": {
      "text/plain": [
       "3"
      ]
     },
     "metadata": {},
     "output_type": "display_data"
    }
   ],
   "source": [
    ":t (!!)\n",
    "-- [a] -> Int -> a\n",
    "\n",
    "[0..10] !! 3\n",
    "--         ^\n",
    "--         |\n",
    "-- index --|\n",
    "--         |\n",
    "--         ,\n",
    "-- [0,1,2,*3*,4,5,6,7,8,9,10]"
   ]
  },
  {
   "cell_type": "code",
   "execution_count": null,
   "metadata": {
    "slideshow": {
     "slide_type": "subslide"
    }
   },
   "outputs": [],
   "source": [
    "-- :set +s\n",
    "\n",
    "fibs !! 35\n",
    "-- (19.22 secs, 8,667,117,448 bytes)"
   ]
  },
  {
   "cell_type": "code",
   "execution_count": 4,
   "metadata": {
    "slideshow": {
     "slide_type": "subslide"
    }
   },
   "outputs": [
    {
     "data": {
      "text/plain": [
       "9227465"
      ]
     },
     "metadata": {},
     "output_type": "display_data"
    }
   ],
   "source": [
    "-- :{\n",
    "fib 0 = 0\n",
    "fib 1 = 1\n",
    "--  n = fib     (n - 2) + fib     (n - 1)\n",
    "fib n = fibs !! (n - 2) + fibs !! (n - 1)\n",
    "\n",
    "fibs = map fib [0..]\n",
    "-- :}\n",
    "\n",
    "fibs !! 35\n",
    "-- (0.00 secs, 132,064 bytes)"
   ]
  },
  {
   "cell_type": "markdown",
   "metadata": {
    "slideshow": {
     "slide_type": "slide"
    }
   },
   "source": [
    "### Python implementation\n",
    "\n",
    "```python\n",
    "def fib(n):\n",
    "  a, b = 0, 1\n",
    "  for _ in range(n):\n",
    "    a, b = b, a + b\n",
    "  return a\n",
    "```\n",
    "\n",
    "```\n",
    "%time fib(35)\n",
    "CPU times: user 9 µs, sys: 0 ns, total: 9 µs\n",
    "Wall time: 14.1 µs\n",
    "```"
   ]
  },
  {
   "cell_type": "code",
   "execution_count": 5,
   "metadata": {
    "slideshow": {
     "slide_type": "subslide"
    }
   },
   "outputs": [
    {
     "data": {
      "text/html": [
       "<style>/* Styles used for the Hoogle display in the pager */\n",
       ".hoogle-doc {\n",
       "display: block;\n",
       "padding-bottom: 1.3em;\n",
       "padding-left: 0.4em;\n",
       "}\n",
       ".hoogle-code {\n",
       "display: block;\n",
       "font-family: monospace;\n",
       "white-space: pre;\n",
       "}\n",
       ".hoogle-text {\n",
       "display: block;\n",
       "}\n",
       ".hoogle-name {\n",
       "color: green;\n",
       "font-weight: bold;\n",
       "}\n",
       ".hoogle-head {\n",
       "font-weight: bold;\n",
       "}\n",
       ".hoogle-sub {\n",
       "display: block;\n",
       "margin-left: 0.4em;\n",
       "}\n",
       ".hoogle-package {\n",
       "font-weight: bold;\n",
       "font-style: italic;\n",
       "}\n",
       ".hoogle-module {\n",
       "font-weight: bold;\n",
       "}\n",
       ".hoogle-class {\n",
       "font-weight: bold;\n",
       "}\n",
       ".get-type {\n",
       "color: green;\n",
       "font-weight: bold;\n",
       "font-family: monospace;\n",
       "display: block;\n",
       "white-space: pre-wrap;\n",
       "}\n",
       ".show-type {\n",
       "color: green;\n",
       "font-weight: bold;\n",
       "font-family: monospace;\n",
       "margin-left: 1em;\n",
       "}\n",
       ".mono {\n",
       "font-family: monospace;\n",
       "display: block;\n",
       "}\n",
       ".err-msg {\n",
       "color: red;\n",
       "font-style: italic;\n",
       "font-family: monospace;\n",
       "white-space: pre;\n",
       "display: block;\n",
       "}\n",
       "#unshowable {\n",
       "color: red;\n",
       "font-weight: bold;\n",
       "}\n",
       ".err-msg.in.collapse {\n",
       "padding-top: 0.7em;\n",
       "}\n",
       ".highlight-code {\n",
       "white-space: pre;\n",
       "font-family: monospace;\n",
       "}\n",
       ".suggestion-warning { \n",
       "font-weight: bold;\n",
       "color: rgb(200, 130, 0);\n",
       "}\n",
       ".suggestion-error { \n",
       "font-weight: bold;\n",
       "color: red;\n",
       "}\n",
       ".suggestion-name {\n",
       "font-weight: bold;\n",
       "}\n",
       "</style><span class='get-type'>iterate :: forall a. (a -> a) -> a -> [a]</span>"
      ],
      "text/plain": [
       "iterate :: forall a. (a -> a) -> a -> [a]"
      ]
     },
     "metadata": {},
     "output_type": "display_data"
    }
   ],
   "source": [
    ":t iterate\n",
    "\n",
    "-- iterate f x == [x, f x, f (f x), ...]"
   ]
  },
  {
   "cell_type": "code",
   "execution_count": null,
   "metadata": {
    "slideshow": {
     "slide_type": "subslide"
    }
   },
   "outputs": [],
   "source": [
    "-- def fib(n):\n",
    "--   a, b = 0, 1\n",
    "--   for _ in range(n):\n",
    "--     a, b = b, a + b\n",
    "--   return a\n",
    "\n",
    "-- :{\n",
    "fibs = map fst it\n",
    "  where\n",
    "    it = iterate f (0,1)\n",
    "    f (a, b) = (b, a + b)\n",
    "-- :}\n",
    "\n",
    "fibs !! 35\n",
    "-- (0.00 secs, 71,368 bytes)"
   ]
  },
  {
   "cell_type": "code",
   "execution_count": 7,
   "metadata": {
    "slideshow": {
     "slide_type": "subslide"
    }
   },
   "outputs": [
    {
     "data": {
      "text/plain": [
       "9227465"
      ]
     },
     "metadata": {},
     "output_type": "display_data"
    }
   ],
   "source": [
    "-- def fib(n):\n",
    "--   a, b = 0, 1\n",
    "--   for _ in range(n):\n",
    "--     a, b = b, a + b\n",
    "--   return a\n",
    "\n",
    "fibs = map fst $ iterate (\\(a,b) -> (b, a + b)) (0,1)\n",
    "\n",
    "fibs !! 35\n",
    "-- (0.00 secs, 127,728 bytes)"
   ]
  },
  {
   "cell_type": "code",
   "execution_count": 8,
   "metadata": {
    "slideshow": {
     "slide_type": "slide"
    }
   },
   "outputs": [
    {
     "data": {
      "text/plain": [
       "9227465"
      ]
     },
     "metadata": {},
     "output_type": "display_data"
    }
   ],
   "source": [
    "-- Canonical zipWith implementation\n",
    "-- https://wiki.haskell.org/The_Fibonacci_sequence\n",
    "\n",
    "fibs = 0 : 1 : zipWith (+) fibs (tail fibs)\n",
    "\n",
    "fibs !! 35\n",
    "-- (0.01 secs, 68,824 bytes)"
   ]
  },
  {
   "cell_type": "code",
   "execution_count": 9,
   "metadata": {
    "slideshow": {
     "slide_type": "subslide"
    }
   },
   "outputs": [
    {
     "data": {
      "text/html": [
       "<style>/* Styles used for the Hoogle display in the pager */\n",
       ".hoogle-doc {\n",
       "display: block;\n",
       "padding-bottom: 1.3em;\n",
       "padding-left: 0.4em;\n",
       "}\n",
       ".hoogle-code {\n",
       "display: block;\n",
       "font-family: monospace;\n",
       "white-space: pre;\n",
       "}\n",
       ".hoogle-text {\n",
       "display: block;\n",
       "}\n",
       ".hoogle-name {\n",
       "color: green;\n",
       "font-weight: bold;\n",
       "}\n",
       ".hoogle-head {\n",
       "font-weight: bold;\n",
       "}\n",
       ".hoogle-sub {\n",
       "display: block;\n",
       "margin-left: 0.4em;\n",
       "}\n",
       ".hoogle-package {\n",
       "font-weight: bold;\n",
       "font-style: italic;\n",
       "}\n",
       ".hoogle-module {\n",
       "font-weight: bold;\n",
       "}\n",
       ".hoogle-class {\n",
       "font-weight: bold;\n",
       "}\n",
       ".get-type {\n",
       "color: green;\n",
       "font-weight: bold;\n",
       "font-family: monospace;\n",
       "display: block;\n",
       "white-space: pre-wrap;\n",
       "}\n",
       ".show-type {\n",
       "color: green;\n",
       "font-weight: bold;\n",
       "font-family: monospace;\n",
       "margin-left: 1em;\n",
       "}\n",
       ".mono {\n",
       "font-family: monospace;\n",
       "display: block;\n",
       "}\n",
       ".err-msg {\n",
       "color: red;\n",
       "font-style: italic;\n",
       "font-family: monospace;\n",
       "white-space: pre;\n",
       "display: block;\n",
       "}\n",
       "#unshowable {\n",
       "color: red;\n",
       "font-weight: bold;\n",
       "}\n",
       ".err-msg.in.collapse {\n",
       "padding-top: 0.7em;\n",
       "}\n",
       ".highlight-code {\n",
       "white-space: pre;\n",
       "font-family: monospace;\n",
       "}\n",
       ".suggestion-warning { \n",
       "font-weight: bold;\n",
       "color: rgb(200, 130, 0);\n",
       "}\n",
       ".suggestion-error { \n",
       "font-weight: bold;\n",
       "color: red;\n",
       "}\n",
       ".suggestion-name {\n",
       "font-weight: bold;\n",
       "}\n",
       "</style><span class='get-type'>zipWith :: forall a b c. (a -> b -> c) -> [a] -> [b] -> [c]</span>"
      ],
      "text/plain": [
       "zipWith :: forall a b c. (a -> b -> c) -> [a] -> [b] -> [c]"
      ]
     },
     "metadata": {},
     "output_type": "display_data"
    },
    {
     "data": {
      "text/plain": [
       "[2,4,6,8,10]"
      ]
     },
     "metadata": {},
     "output_type": "display_data"
    }
   ],
   "source": [
    ":t zipWith\n",
    "\n",
    "zipWith (+) [1..5] [1..1000]"
   ]
  },
  {
   "cell_type": "markdown",
   "metadata": {
    "slideshow": {
     "slide_type": "subslide"
    }
   },
   "source": [
    "<p>\n",
    "    <img align=\"left\" src=\"http://jelv.is/blog/Lazy-Dynamic-Programming/fib-frames/frame0.png\" />\n",
    "</p>\n",
    "<br /><br /><br /><br />\n",
    "<p>\n",
    "    <img align=\"left\" src=\"http://jelv.is/blog/Lazy-Dynamic-Programming/fib-frames/frame1.png\" />\n",
    "</p>\n",
    "<br /><br /><br /><br />\n",
    "<p>\n",
    "    <img align=\"left\" src=\"http://jelv.is/blog/Lazy-Dynamic-Programming/fib-frames/frame2.png\" />\n",
    "</p>\n",
    "<br /><br /><br /><br />\n",
    "<p>\n",
    "    <img align=\"left\" src=\"http://jelv.is/blog/Lazy-Dynamic-Programming/fib-frames/frame3.png\" />\n",
    "</p>\n",
    "<br /><br /><br /><br />\n",
    "<p>\n",
    "    <img align=\"left\" src=\"http://jelv.is/blog/Lazy-Dynamic-Programming/fib-frames/frame4.png\" />\n",
    "</p>\n",
    "<br /><br /><br /><br />\n",
    "<p>\n",
    "    <img align=\"left\" src=\"http://jelv.is/blog/Lazy-Dynamic-Programming/fib-frames/frame5.png\" />\n",
    "</p>"
   ]
  },
  {
   "cell_type": "code",
   "execution_count": 10,
   "metadata": {
    "slideshow": {
     "slide_type": "slide"
    }
   },
   "outputs": [
    {
     "data": {
      "text/plain": [
       "9227465"
      ]
     },
     "metadata": {},
     "output_type": "display_data"
    }
   ],
   "source": [
    "-- :{\n",
    "fib a b = a : fib b (a + b)\n",
    "\n",
    "fibs = fib 0 1\n",
    "-- :}\n",
    "\n",
    "fibs !! 35\n",
    "-- (0.01 secs, 69,568 bytes)"
   ]
  },
  {
   "cell_type": "markdown",
   "metadata": {
    "slideshow": {
     "slide_type": "slide"
    }
   },
   "source": [
    "### [PE025: 1000-digit Fibonacci number](https://projecteuler.net/problem=25)\n",
    "\n",
    "The Fibonacci sequence is defined by the recurrence relation:\n",
    "\n",
    "F<sub>n</sub> = F<sub>n−1</sub> + F<sub>n−2</sub>, where F<sub>1</sub> = 1 and F<sub>2</sub> = 1.\n",
    "Hence the first 12 terms will be:\n",
    "\n",
    "F<sub>1</sub> = 1<br />\n",
    "F<sub>2</sub> = 1<br />\n",
    "F<sub>3</sub> = 2<br />\n",
    "F<sub>4</sub> = 3<br />\n",
    "F<sub>5</sub> = 5<br />\n",
    "F<sub>6</sub> = 8<br />\n",
    "F<sub>7</sub> = 13<br />\n",
    "F<sub>8</sub> = 21<br />\n",
    "F<sub>9</sub> = 34<br />\n",
    "F<sub>10</sub> = 55<br />\n",
    "F<sub>11</sub> = 89<br />\n",
    "F<sub>12</sub> = 144<br />\n",
    "\n",
    "The 12th term, F<sub>12</sub>, is the first term to contain three digits.\n",
    "\n",
    "What is the index of the first term in the Fibonacci sequence to contain 1000 digits?"
   ]
  },
  {
   "cell_type": "code",
   "execution_count": null,
   "metadata": {
    "slideshow": {
     "slide_type": "subslide"
    }
   },
   "outputs": [],
   "source": [
    ":t show\n",
    "-- show :: Show a => a -> String\n",
    "\n",
    "show 1234\n",
    "\n",
    ":t length\n",
    "-- length :: Foldable t => t a -> Int\n",
    "\n",
    "-- digits :: Show a => a -> Int\n",
    "digits = _"
   ]
  },
  {
   "cell_type": "code",
   "execution_count": 12,
   "metadata": {
    "slideshow": {
     "slide_type": "subslide"
    }
   },
   "outputs": [
    {
     "data": {
      "text/html": [
       "<style>/* Styles used for the Hoogle display in the pager */\n",
       ".hoogle-doc {\n",
       "display: block;\n",
       "padding-bottom: 1.3em;\n",
       "padding-left: 0.4em;\n",
       "}\n",
       ".hoogle-code {\n",
       "display: block;\n",
       "font-family: monospace;\n",
       "white-space: pre;\n",
       "}\n",
       ".hoogle-text {\n",
       "display: block;\n",
       "}\n",
       ".hoogle-name {\n",
       "color: green;\n",
       "font-weight: bold;\n",
       "}\n",
       ".hoogle-head {\n",
       "font-weight: bold;\n",
       "}\n",
       ".hoogle-sub {\n",
       "display: block;\n",
       "margin-left: 0.4em;\n",
       "}\n",
       ".hoogle-package {\n",
       "font-weight: bold;\n",
       "font-style: italic;\n",
       "}\n",
       ".hoogle-module {\n",
       "font-weight: bold;\n",
       "}\n",
       ".hoogle-class {\n",
       "font-weight: bold;\n",
       "}\n",
       ".get-type {\n",
       "color: green;\n",
       "font-weight: bold;\n",
       "font-family: monospace;\n",
       "display: block;\n",
       "white-space: pre-wrap;\n",
       "}\n",
       ".show-type {\n",
       "color: green;\n",
       "font-weight: bold;\n",
       "font-family: monospace;\n",
       "margin-left: 1em;\n",
       "}\n",
       ".mono {\n",
       "font-family: monospace;\n",
       "display: block;\n",
       "}\n",
       ".err-msg {\n",
       "color: red;\n",
       "font-style: italic;\n",
       "font-family: monospace;\n",
       "white-space: pre;\n",
       "display: block;\n",
       "}\n",
       "#unshowable {\n",
       "color: red;\n",
       "font-weight: bold;\n",
       "}\n",
       ".err-msg.in.collapse {\n",
       "padding-top: 0.7em;\n",
       "}\n",
       ".highlight-code {\n",
       "white-space: pre;\n",
       "font-family: monospace;\n",
       "}\n",
       ".suggestion-warning { \n",
       "font-weight: bold;\n",
       "color: rgb(200, 130, 0);\n",
       "}\n",
       ".suggestion-error { \n",
       "font-weight: bold;\n",
       "color: red;\n",
       "}\n",
       ".suggestion-name {\n",
       "font-weight: bold;\n",
       "}\n",
       "</style><span class='get-type'>digits :: forall a. Show a => a -> Int</span>"
      ],
      "text/plain": [
       "digits :: forall a. Show a => a -> Int"
      ]
     },
     "metadata": {},
     "output_type": "display_data"
    }
   ],
   "source": [
    "digits = length . show\n",
    "\n",
    ":t digits"
   ]
  },
  {
   "cell_type": "code",
   "execution_count": null,
   "metadata": {
    "slideshow": {
     "slide_type": "subslide"
    }
   },
   "outputs": [],
   "source": [
    "-- fibs <-- infinite sequence of fibonacci numbers\n",
    "\n",
    ":t takeWhile\n",
    "-- takeWhile :: (a -> Bool) -> [a] -> [a]\n",
    "\n",
    "-- What is the index of the first term in the Fibonacci sequence\n",
    "-- to contain 1000 digits?\n",
    "\n",
    "fibs = 0 : 1 : zipWith (+) fibs (tail fibs) -- canonical implementation\n",
    "solution = _"
   ]
  },
  {
   "cell_type": "code",
   "execution_count": null,
   "metadata": {
    "slideshow": {
     "slide_type": "subslide"
    }
   },
   "outputs": [],
   "source": [
    "fibs = 0 : 1 : zipWith (+) fibs (tail fibs) -- canonical implementation\n",
    "solution = length $ takeWhile predicate fibs\n",
    "\n",
    "-- \"to contain 1000 digits\"\n",
    "-- predicate :: (a -> Bool)\n",
    "predicate = _"
   ]
  },
  {
   "cell_type": "code",
   "execution_count": 15,
   "metadata": {
    "slideshow": {
     "slide_type": "subslide"
    }
   },
   "outputs": [],
   "source": [
    "fibs = 0 : 1 : zipWith (+) fibs (tail fibs) -- canonical implementation\n",
    "solution = length $ takeWhile predicate fibs\n",
    "\n",
    "-- \"to contain 1000 digits\"\n",
    "-- predicate :: (a -> Bool)\n",
    "digits = length . show\n",
    "predicate n = digits n < 1000"
   ]
  },
  {
   "cell_type": "code",
   "execution_count": 16,
   "metadata": {
    "slideshow": {
     "slide_type": "subslide"
    }
   },
   "outputs": [
    {
     "data": {
      "text/plain": [
       "4782"
      ]
     },
     "metadata": {},
     "output_type": "display_data"
    }
   ],
   "source": [
    "fibs = 0 : 1 : zipWith (+) fibs (tail fibs) -- canonical implementation\n",
    "digits = length . show\n",
    "predicate n = digits n < 1000\n",
    "length $ takeWhile predicate fibs\n",
    "-- (0.07 secs, 139,867,320 bytes)"
   ]
  },
  {
   "cell_type": "code",
   "execution_count": 17,
   "metadata": {
    "slideshow": {
     "slide_type": "subslide"
    }
   },
   "outputs": [
    {
     "data": {
      "text/plain": [
       "4782"
      ]
     },
     "metadata": {},
     "output_type": "display_data"
    }
   ],
   "source": [
    "fibs = 0 : 1 : zipWith (+) fibs (tail fibs) -- canonical implementation\n",
    "digits = length . show\n",
    "length $ takeWhile (\\n -> digits n < 1000) fibs\n",
    "-- (0.07 secs, 139,828,328 bytes)"
   ]
  },
  {
   "cell_type": "code",
   "execution_count": 18,
   "metadata": {
    "slideshow": {
     "slide_type": "slide"
    }
   },
   "outputs": [
    {
     "data": {
      "text/plain": [
       "1000"
      ]
     },
     "metadata": {},
     "output_type": "display_data"
    }
   ],
   "source": [
    "-- how big is a 1000 digit number?\n",
    "limit = 10^999\n",
    "length . show $ limit"
   ]
  },
  {
   "cell_type": "code",
   "execution_count": null,
   "metadata": {
    "slideshow": {
     "slide_type": "subslide"
    }
   },
   "outputs": [],
   "source": [
    "-- how big is a 1000 digit number?\n",
    "limit = 10^999\n",
    "\n",
    "predicate n = _\n",
    "solution = length $ takeWhile predicate fibs"
   ]
  },
  {
   "cell_type": "code",
   "execution_count": 20,
   "metadata": {
    "slideshow": {
     "slide_type": "subslide"
    }
   },
   "outputs": [],
   "source": [
    "-- how big is a 1000 digit number?\n",
    "limit = 10^999\n",
    "\n",
    "predicate n = n < limit\n",
    "solution = length $ takeWhile predicate fibs"
   ]
  },
  {
   "cell_type": "code",
   "execution_count": 21,
   "metadata": {
    "slideshow": {
     "slide_type": "subslide"
    }
   },
   "outputs": [
    {
     "data": {
      "text/plain": [
       "4782"
      ]
     },
     "metadata": {},
     "output_type": "display_data"
    }
   ],
   "source": [
    "fibs = 0 : 1 : zipWith (+) fibs (tail fibs) -- canonical implementation\n",
    "length $ takeWhile (< 10^999) fibs\n",
    "-- (0.01 secs, 2,082,216 bytes)"
   ]
  },
  {
   "cell_type": "markdown",
   "metadata": {
    "slideshow": {
     "slide_type": "slide"
    }
   },
   "source": [
    "### [PE067: Maximum path sum II](https://projecteuler.net/problem=67)\n",
    "\n",
    "By starting at the top of the triangle below \n",
    "and moving to adjacent numbers on the row below, \n",
    "the maximum total from top to bottom is 23.\n",
    "\n",
    "```\n",
    "   3         *3*\n",
    "  7 4       *7*4\n",
    " 2 4 6      2*4*6\n",
    "8 5 9 3    8 5*9*3\n",
    "```\n",
    "\n",
    "That is, `3 + 7 + 4 + 9 = 23`.\n",
    "\n",
    "Find the maximum total from top to bottom in [triangle.txt](https://projecteuler.net/project/resources/p067_triangle.txt)"
   ]
  },
  {
   "cell_type": "markdown",
   "metadata": {
    "slideshow": {
     "slide_type": "subslide"
    }
   },
   "source": [
    "#### Python\n",
    "\n",
    "```python\n",
    "triangle = [[75],\n",
    " [95, 64],\n",
    " [17, 47, 82],\n",
    " [18, 35, 87, 10],\n",
    " [20, 4, 82, 47, 65],\n",
    " [19, 1, 23, 75, 3, 34],\n",
    " [88, 2, 77, 73, 7, 63, 67],\n",
    " [99, 65, 4, 28, 6, 16, 70, 92],\n",
    " [41, 41, 26, 56, 83, 40, 80, 70, 33],\n",
    " [41, 48, 72, 33, 47, 32, 37, 16, 94, 29],\n",
    " [53, 71, 44, 65, 25, 43, 91, 52, 97, 51, 14],\n",
    " [70, 11, 33, 28, 77, 73, 17, 78, 39, 68, 17, 57],\n",
    " [91, 71, 52, 38, 17, 14, 91, 43, 58, 50, 27, 29, 48],\n",
    " [63, 66, 4, 68, 89, 53, 67, 30, 73, 16, 69, 87, 40, 31],\n",
    " [4, 62, 98, 27, 23, 9, 70, 98, 73, 93, 38, 53, 60, 4, 23]]\n",
    "```"
   ]
  },
  {
   "cell_type": "markdown",
   "metadata": {
    "slideshow": {
     "slide_type": "subslide"
    }
   },
   "source": [
    "```python\n",
    "import functools\n",
    "\n",
    "@functools.lru_cache()\n",
    "def answer(i, j):\n",
    "  path_sum = triangle[i][j]\n",
    "  if i < len(triangle) - 1:\n",
    "    path_sum += max(answer(i+1, j), answer(i+1, j+1))\n",
    "  return path_sum\n",
    "```\n",
    "\n",
    "```\n",
    "%timeit answer(0,0)\n",
    "# 104 ns ± 0.85 ns per loop\n",
    "```"
   ]
  },
  {
   "cell_type": "markdown",
   "metadata": {
    "slideshow": {
     "slide_type": "subslide"
    }
   },
   "source": [
    "```python\n",
    "import functools\n",
    "import requests\n",
    "\n",
    "url = 'https://projecteuler.net/project/resources/p067_triangle.txt'\n",
    "triangle_rows = requests.get(url).text.splitlines()\n",
    "triangle = [[int(d) for d in l.split()] for l in triangle_rows]\n",
    "\n",
    "@functools.lru_cache()\n",
    "def answer(i, j):\n",
    "  path_sum = triangle[i][j]\n",
    "  if i < len(triangle) - 1:\n",
    "    path_sum += max(answer(i+1, j), answer(i+1, j+1))\n",
    "  return path_sum\n",
    "```\n",
    "\n",
    "```\n",
    "%time answer(0,0)\n",
    "# CPU times: user 4.41 ms, sys: 2 µs, total: 4.41 ms\n",
    "# Wall time: 4.42 ms\n",
    "```"
   ]
  },
  {
   "cell_type": "code",
   "execution_count": 22,
   "metadata": {
    "slideshow": {
     "slide_type": "slide"
    }
   },
   "outputs": [],
   "source": [
    "-- top-down/divide-and-conquer approach\n",
    "--\n",
    "--    3     =   3 |         |\n",
    "--   7 4    =     |    7    |    4    \n",
    "--  2 4 6   =     |   2 4   |   4 6   \n",
    "-- 8 5 9 3  =     |  8 5 9  |  5 9 3  \n",
    "--              ^\n",
    "--              |\n",
    "-- apex --------|\n",
    "--                     ^\n",
    "--                     |\n",
    "-- left sub problem ---|\n",
    "--                               ^\n",
    "--                               |\n",
    "-- right sub problem ------------|\n",
    "\n",
    "triangle = [   [3], \n",
    "              [7,4],\n",
    "             [2,4,6], \n",
    "            [8,5,9,3]]"
   ]
  },
  {
   "cell_type": "code",
   "execution_count": null,
   "metadata": {
    "slideshow": {
     "slide_type": "subslide"
    }
   },
   "outputs": [],
   "source": [
    "head [1, 2, 3]\n",
    "tail [1, 2, 3]\n",
    "init [1, 2, 3]\n",
    "\n",
    "apex = _\n",
    "left = _\n",
    "right = _"
   ]
  },
  {
   "cell_type": "markdown",
   "metadata": {
    "slideshow": {
     "slide_type": "slide"
    }
   },
   "source": [
    "### Session Feedback\n",
    "\n",
    "I need your feedback to better tune this sessions\n",
    "\n",
    "Please ping me on Slack @fvitale"
   ]
  }
 ],
 "metadata": {
  "celltoolbar": "Slideshow",
  "kernelspec": {
   "display_name": "Haskell",
   "language": "haskell",
   "name": "haskell"
  },
  "language_info": {
   "codemirror_mode": "ihaskell",
   "file_extension": ".hs",
   "name": "haskell",
   "version": "8.2.2"
  }
 },
 "nbformat": 4,
 "nbformat_minor": 2
}
