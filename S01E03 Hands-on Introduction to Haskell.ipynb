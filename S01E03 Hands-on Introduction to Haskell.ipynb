{
 "cells": [
  {
   "cell_type": "markdown",
   "metadata": {
    "slideshow": {
     "slide_type": "slide"
    }
   },
   "source": [
    "### Recap\n",
    "\n",
    "##### Canonical zipWith implementation\n",
    "```\n",
    "fibs = 0 : 1 : zipWith (+) fibs (tail fibs)\n",
    "\n",
    ":t zipWith\n",
    "-- zipWith :: (a -> b -> c) -> [a] -> [b] -> [c]\n",
    "```\n",
    "\n",
    "#### Count digits\n",
    "```haskell\n",
    ":t show\n",
    "-- show :: Show a => a -> String\n",
    "\n",
    ":t length\n",
    "-- length :: Foldable t => t a -> Int\n",
    "\n",
    "digits = length . show\n",
    "-- digits :: Show a => a -> Int\n",
    "```\n",
    "\n",
    "#### Solved Problem Euler 25\n",
    "```haskell\n",
    "fibs = 0 : 1 : zipWith (+) fibs (tail fibs) -- canonical implementation\n",
    "length $ takeWhile (< 10^999) fibs\n",
    "```"
   ]
  },
  {
   "cell_type": "markdown",
   "metadata": {
    "slideshow": {
     "slide_type": "slide"
    }
   },
   "source": [
    "### Ground Rules\n",
    "\n",
    "* 2 mutually-exclusive modes: 1 big conversation **or** multiple ones\n",
    "* a question is allowed anytime: __everybody can answer__ and answers could be postponed\n",
    "* no prejudice / no discrimination / no tech-fanaticism\n",
    "* experiment first, then abstraction and theory behind later"
   ]
  },
  {
   "cell_type": "markdown",
   "metadata": {
    "slideshow": {
     "slide_type": "slide"
    }
   },
   "source": [
    "![Play Snake](https://www.google.com/logos/fnbx/snake_arcade/cta.png)\n",
    "<center><a href=\"https://www.google.com/search?q=play+snake\">google.com/search?q=play+snake</a></center>"
   ]
  },
  {
   "cell_type": "markdown",
   "metadata": {
    "slideshow": {
     "slide_type": "slide"
    }
   },
   "source": [
    "```bash\n",
    "cd somewhere\n",
    "touch Snake.hs\n",
    "atom .\n",
    "```\n",
    "\n",
    "```bash\n",
    "docker run -it --rm -v `pwd`:/root haskell ghci\n",
    "Prelude> :l root/Snake.hs\n",
    "\n",
    "Prelude> :r\n",
    "```"
   ]
  },
  {
   "cell_type": "markdown",
   "metadata": {
    "slideshow": {
     "slide_type": "slide"
    }
   },
   "source": [
    "```\n",
    "   |--- 10 ---|\n",
    "    \n",
    "-  ############\n",
    "|  #A        B#   <-- A = ( 0, 0)\n",
    "|  #          # \\---- B = (10, 0)\n",
    "5  #C         # <---- C = ( 0, 2)\n",
    "|  #          #\n",
    "|  #         Z#   <-- D = (10, 5)\n",
    "-  ############\n",
    "```"
   ]
  },
  {
   "cell_type": "markdown",
   "metadata": {
    "slideshow": {
     "slide_type": "subslide"
    }
   },
   "source": [
    "```\n",
    "   |--- 10 ---|\n",
    "    \n",
    "-  ############\n",
    "|  #A        B#   <-- A = ( 0, 0)\n",
    "|  #          # \\---- B = (10, 0)\n",
    "5  #C         # <---- C = ( 0, 2)\n",
    "|  #          #\n",
    "|  #         Z#   <-- D = (10, 5)\n",
    "-  ############\n",
    "```\n",
    "\n",
    "```haskell\n",
    "-- Type synonyms\n",
    "type Cell = (Int, Int)\n",
    "```"
   ]
  },
  {
   "cell_type": "markdown",
   "metadata": {
    "slideshow": {
     "slide_type": "subslide"
    }
   },
   "source": [
    "```\n",
    "   |--- 10 ---|\n",
    "    \n",
    "-  ############\n",
    "|  #A        B#   <-- A = ( 0, 0)\n",
    "|  #          # \\---- B = (10, 0)\n",
    "5  #C         # <---- C = ( 0, 2)\n",
    "|  #          #\n",
    "|  #         Z#   <-- D = (10, 5)\n",
    "-  ############\n",
    "```\n",
    "\n",
    "```haskell\n",
    "-- Type synonyms\n",
    "type Cell = (Int, Int)\n",
    "\n",
    "a = (0, 0)\n",
    "b = (10, 0) :: Cell\n",
    "\n",
    "a == b\n",
    "```"
   ]
  },
  {
   "cell_type": "markdown",
   "metadata": {
    "slideshow": {
     "slide_type": "subslide"
    }
   },
   "source": [
    "```\n",
    "   |--- 10 ---|\n",
    "    \n",
    "-  ############\n",
    "|  #A        B#   <-- A = ( 0, 0)\n",
    "|  #          # \\---- B = (10, 0)\n",
    "5  #C         # <---- C = ( 0, 2)\n",
    "|  #          #\n",
    "|  #         Z#   <-- D = (10, 5)\n",
    "-  ############\n",
    "```\n",
    "\n",
    "```haskell\n",
    "-- Type synonyms\n",
    "type Cell = (Int, Int)\n",
    "\n",
    "a = (0, 0)\n",
    "b = (10, 0) :: Cell\n",
    "\n",
    "a == b\n",
    "-- False\n",
    "```\n",
    "\n",
    "### Type synonyms are for humans"
   ]
  },
  {
   "cell_type": "markdown",
   "metadata": {
    "slideshow": {
     "slide_type": "slide"
    }
   },
   "source": [
    "### Data Type\n",
    "\n",
    "```\n",
    "  |-- we define a new \"data type\"\n",
    "  ,\n",
    "data Bool = False | True\n",
    "       ^  \\\n",
    "       |   ==>\n",
    "type --|  /\n",
    "          |-- value constructors\n",
    "```"
   ]
  },
  {
   "cell_type": "markdown",
   "metadata": {
    "slideshow": {
     "slide_type": "subslide"
    }
   },
   "source": [
    "### Data Type\n",
    "\n",
    "```\n",
    "\n",
    "\n",
    "data Bool = False | True\n",
    "                  ^\n",
    "                  |-- or\n",
    "```\n",
    "\n",
    "The `Bool` type is a sum type with two variants"
   ]
  },
  {
   "cell_type": "markdown",
   "metadata": {
    "slideshow": {
     "slide_type": "subslide"
    }
   },
   "source": [
    "```\n",
    "   |--- 10 ---|\n",
    "    \n",
    "-  ############\n",
    "|  #A        B#   <-- A = ( 0, 0)\n",
    "|  #          # \\---- B = (10, 0)\n",
    "5  #C         # <---- C = ( 0, 2)\n",
    "|  #          #\n",
    "|  #         Z#   <-- D = (10, 5)\n",
    "-  ############\n",
    "```\n",
    "\n",
    "```haskell\n",
    "-- type synonyms\n",
    "-- type Cell = (Int, Int)\n",
    "\n",
    "-- new data type\n",
    "data Cell = Cell Int Int\n",
    "```"
   ]
  },
  {
   "cell_type": "markdown",
   "metadata": {
    "slideshow": {
     "slide_type": "subslide"
    }
   },
   "source": [
    "```\n",
    "   |--- 10 ---|\n",
    "    \n",
    "-  ############\n",
    "|  #A        B#   <-- A = ( 0, 0)\n",
    "|  #          # \\---- B = (10, 0)\n",
    "5  #C         # <---- C = ( 0, 2)\n",
    "|  #          #\n",
    "|  #         Z#   <-- D = (10, 5)\n",
    "-  ############\n",
    "```\n",
    "\n",
    "```haskell\n",
    "-- type synonyms\n",
    "-- type Cell = (Int, Int)\n",
    "\n",
    "-- new data type\n",
    "data Cell = Cell Int Int\n",
    "\n",
    "a = Cell 0 0\n",
    "z = Cell 10 5\n",
    "\n",
    "a == z\n",
    "-- ???\n",
    "```"
   ]
  },
  {
   "cell_type": "markdown",
   "metadata": {
    "slideshow": {
     "slide_type": "subslide"
    }
   },
   "source": [
    "```\n",
    "   |--- 10 ---|\n",
    "    \n",
    "-  ############\n",
    "|  #A        B#   <-- A = ( 0, 0)\n",
    "|  #          # \\---- B = (10, 0)\n",
    "5  #C         # <---- C = ( 0, 2)\n",
    "|  #          #\n",
    "|  #         Z#   <-- D = (10, 5)\n",
    "-  ############\n",
    "```\n",
    "\n",
    "```haskell\n",
    "-- type synonyms\n",
    "-- type Cell = (Int, Int)\n",
    "\n",
    "-- new data type\n",
    "data Cell = Cell Int Int\n",
    "\n",
    "a = Cell 0 0\n",
    "z = Cell 10 5\n",
    "\n",
    "a == z\n",
    "-- Boom!\n",
    "```\n",
    "\n",
    "#### No instance for (Eq Cell) arising from a use of ‘==’"
   ]
  },
  {
   "cell_type": "markdown",
   "metadata": {
    "slideshow": {
     "slide_type": "subslide"
    }
   },
   "source": [
    "```haskell\n",
    ":i Eq\n",
    "class Eq a where\n",
    "  (==) :: a -> a -> Bool\n",
    "  (/=) :: a -> a -> Bool\n",
    "```"
   ]
  },
  {
   "cell_type": "markdown",
   "metadata": {
    "slideshow": {
     "slide_type": "subslide"
    }
   },
   "source": [
    "> Type classes originated from the problem of checking the equality of two values uniformly.\n",
    "\n",
    "–– Haskell in Depth - Vitaly Bragilevsky.pdf, pg. 26"
   ]
  },
  {
   "cell_type": "markdown",
   "metadata": {
    "slideshow": {
     "slide_type": "subslide"
    }
   },
   "source": [
    "```\n",
    "   |--- 10 ---|\n",
    "    \n",
    "-  ############\n",
    "|  #A        B#   <-- A = ( 0, 0)\n",
    "|  #          # \\---- B = (10, 0)\n",
    "5  #C         # <---- C = ( 0, 2)\n",
    "|  #          #\n",
    "|  #         Z#   <-- D = (10, 5)\n",
    "-  ############\n",
    "```\n",
    "\n",
    "```haskell\n",
    "-- type synonyms\n",
    "-- type Cell = (Int, Int)\n",
    "\n",
    "-- new data type\n",
    "data Cell = Cell Int Int\n",
    "\n",
    "a = Cell 0 0\n",
    "z = Cell 10 5\n",
    "\n",
    "a\n",
    "```"
   ]
  },
  {
   "cell_type": "markdown",
   "metadata": {
    "slideshow": {
     "slide_type": "subslide"
    }
   },
   "source": [
    "```\n",
    "   |--- 10 ---|\n",
    "    \n",
    "-  ############\n",
    "|  #A        B#   <-- A = ( 0, 0)\n",
    "|  #          # \\---- B = (10, 0)\n",
    "5  #C         # <---- C = ( 0, 2)\n",
    "|  #          #\n",
    "|  #         Z#   <-- D = (10, 5)\n",
    "-  ############\n",
    "```\n",
    "\n",
    "```haskell\n",
    "-- type synonyms\n",
    "-- type Cell = (Int, Int)\n",
    "\n",
    "-- new data type\n",
    "data Cell = Cell Int Int\n",
    "\n",
    "a = Cell 0 0\n",
    "z = Cell 10 5\n",
    "\n",
    "a\n",
    "-- Boom!\n",
    "```\n",
    "\n",
    "#### No instance for (Show Cell) arising from a use of ‘print’"
   ]
  },
  {
   "cell_type": "markdown",
   "metadata": {
    "slideshow": {
     "slide_type": "subslide"
    }
   },
   "source": [
    "#### No instance for (Show Cell) arising from a use of ‘print’\n",
    "\n",
    "```haskell\n",
    ":t print\n",
    "-- print :: Show a => a -> IO ()\n",
    "```\n",
    "\n",
    "```haskell\n",
    ":i Show\n",
    "class Show a where\n",
    "  show :: a -> String\n",
    "```"
   ]
  },
  {
   "cell_type": "markdown",
   "metadata": {
    "slideshow": {
     "slide_type": "subslide"
    }
   },
   "source": [
    "TODO\n",
    "```\n",
    ":i Enum\n",
    "class Enum a where\n",
    "  toEnum :: Int -> a\n",
    "  fromEnum :: a -> Int\n",
    "```"
   ]
  },
  {
   "cell_type": "markdown",
   "metadata": {
    "slideshow": {
     "slide_type": "subslide"
    }
   },
   "source": [
    "```\n",
    "   |--- 10 ---|\n",
    "    \n",
    "-  ############\n",
    "|  #A        B#   <-- A = ( 0, 0)\n",
    "|  #          # \\---- B = (10, 0)\n",
    "5  #C         # <---- C = ( 0, 2)\n",
    "|  #          #\n",
    "|  #         Z#   <-- D = (10, 5)\n",
    "-  ############\n",
    "```\n",
    "\n",
    "```haskell\n",
    "-- new data type\n",
    "-- data Cell = Cell Int Int\n",
    "\n",
    "-- new data type record syntax\n",
    "data Cell = Cell {cX :: Int, cY :: Int}\n",
    "\n",
    "a = Cell 0 0\n",
    "z = Cell 10 5\n",
    "\n",
    ":t cX  -- cX :: Cell -> Int\n",
    "\n",
    "a == z\n",
    "-- Boom!\n",
    "```"
   ]
  },
  {
   "cell_type": "markdown",
   "metadata": {
    "slideshow": {
     "slide_type": "subslide"
    }
   },
   "source": [
    "```\n",
    "   |--- 10 ---|\n",
    "    \n",
    "-  ############\n",
    "|  #A        B#   <-- A = ( 0, 0)\n",
    "|  #          # \\---- B = (10, 0)\n",
    "5  #C         # <---- C = ( 0, 2)\n",
    "|  #          #\n",
    "|  #         Z#   <-- D = (10, 5)\n",
    "-  ############\n",
    "```\n",
    "\n",
    "```haskell\n",
    "data Cell = Cell Int Int\n",
    "\n",
    "type Board = _\n",
    "```"
   ]
  },
  {
   "cell_type": "markdown",
   "metadata": {
    "slideshow": {
     "slide_type": "subslide"
    }
   },
   "source": [
    "```\n",
    "   |--- 10 ---|\n",
    "    \n",
    "-  ############\n",
    "|  #A        B#   <-- A = ( 0, 0)\n",
    "|  #          # \\---- B = (10, 0)\n",
    "5  #C         # <---- C = ( 0, 2)\n",
    "|  #          #\n",
    "|  #         Z#   <-- D = (10, 5)\n",
    "-  ############\n",
    "```\n",
    "\n",
    "```haskell\n",
    "data Cell = Cell Int Int\n",
    "\n",
    "type Board = [[Cell]]\n",
    "```"
   ]
  },
  {
   "cell_type": "markdown",
   "metadata": {
    "slideshow": {
     "slide_type": "subslide"
    }
   },
   "source": [
    "```\n",
    "   |--- 10 ---|\n",
    "    \n",
    "-  ############\n",
    "|  #          #\n",
    "|  #          #\n",
    "5  #          #\n",
    "|  #  *****   #\n",
    "|  #          #\n",
    "-  ############\n",
    "```\n",
    "\n",
    "```haskell\n",
    "data Cell = Cell Int Int\n",
    "\n",
    "type Board = [[Cell]]\n",
    "\n",
    "type Snake = _\n",
    "```"
   ]
  },
  {
   "cell_type": "markdown",
   "metadata": {
    "slideshow": {
     "slide_type": "subslide"
    }
   },
   "source": [
    "```haskell\n",
    "data Cell = Cell Int Int\n",
    "\n",
    "type Board = [[Cell]]\n",
    "\n",
    "type Snake = [Cell]\n",
    "```"
   ]
  },
  {
   "cell_type": "markdown",
   "metadata": {
    "slideshow": {
     "slide_type": "slide"
    }
   },
   "source": [
    "#### Possible values of this Data Type: Up/Down Left/Right\n",
    "\n",
    "```haskell\n",
    "data Direction = _\n",
    "```"
   ]
  },
  {
   "cell_type": "markdown",
   "metadata": {
    "slideshow": {
     "slide_type": "subslide"
    }
   },
   "source": [
    "```haskell\n",
    "data Direction = North | East | South | West\n",
    "```"
   ]
  },
  {
   "cell_type": "markdown",
   "metadata": {
    "slideshow": {
     "slide_type": "subslide"
    }
   },
   "source": [
    "```haskell\n",
    "data Direction = North | East | South | West\n",
    "\n",
    ":t West\n",
    "-- West :: Direction\n",
    "\n",
    ":i Direction\n",
    "-- data Direction = North | East | South | West\n",
    "\n",
    "East\n",
    "-- ???\n",
    "```"
   ]
  },
  {
   "cell_type": "markdown",
   "metadata": {
    "slideshow": {
     "slide_type": "subslide"
    }
   },
   "source": [
    "```haskell\n",
    "data Direction = North | East | South | West\n",
    "\n",
    ":t West\n",
    "-- West :: Direction\n",
    "\n",
    ":i Direction\n",
    "-- data Direction = North | East | South | West\n",
    "\n",
    "East\n",
    "-- No instance for (Show Direction) arising from a use of ‘print’\n",
    "```"
   ]
  },
  {
   "cell_type": "markdown",
   "metadata": {
    "slideshow": {
     "slide_type": "subslide"
    }
   },
   "source": [
    "#### No instance for (Show Direction) arising from a use of ‘print’\n",
    "\n",
    "```haskell\n",
    ":i Show\n",
    "class Show a where\n",
    "  show :: a -> String\n",
    "```"
   ]
  },
  {
   "cell_type": "markdown",
   "metadata": {
    "slideshow": {
     "slide_type": "subslide"
    }
   },
   "source": [
    "#### No instance for (Show Direction) arising from a use of ‘print’\n",
    "\n",
    "```haskell\n",
    ":i Show\n",
    "class Show a where\n",
    "  show :: a -> String\n",
    "\n",
    "\n",
    "instance Show Direction where\n",
    "  show North = \"Going North!\"\n",
    "  show East = \"E\"\n",
    "  show South = \"Heading South\"\n",
    "  show West = \"West\"\n",
    "```"
   ]
  },
  {
   "cell_type": "markdown",
   "metadata": {
    "slideshow": {
     "slide_type": "subslide"
    }
   },
   "source": [
    "```haskell\n",
    "instance Show Direction where\n",
    "  show North = \"Going North!\"\n",
    "  show East = \"E\"\n",
    "  show South = \"Heading South\"\n",
    "  show West = \"West\"\n",
    "\n",
    "North\n",
    "-- Going North!\n",
    "\n",
    "West\n",
    "-- West\n",
    "```"
   ]
  },
  {
   "cell_type": "markdown",
   "metadata": {
    "slideshow": {
     "slide_type": "subslide"
    }
   },
   "source": [
    "```haskell\n",
    "instance Show Direction where\n",
    "  show North = \"North\"\n",
    "  show East = \"East\"\n",
    "  show South = \"South\"\n",
    "  show West = \"West\"\n",
    "\n",
    "North\n",
    "-- North\n",
    "\n",
    "West\n",
    "-- West\n",
    "```"
   ]
  },
  {
   "cell_type": "markdown",
   "metadata": {
    "slideshow": {
     "slide_type": "subslide"
    }
   },
   "source": [
    "```haskell\n",
    "data Direction = North | East | South | West\n",
    "  deriving Show\n",
    "\n",
    "\n",
    "North\n",
    "-- North\n",
    "\n",
    "West\n",
    "-- West\n",
    "```"
   ]
  },
  {
   "cell_type": "markdown",
   "metadata": {
    "slideshow": {
     "slide_type": "subslide"
    }
   },
   "source": [
    "### What about `Eq`?"
   ]
  },
  {
   "cell_type": "markdown",
   "metadata": {
    "slideshow": {
     "slide_type": "subslide"
    }
   },
   "source": [
    "### What about `Eq`?\n",
    "\n",
    "```haskell\n",
    "data Direction = North | East | South | West\n",
    "  deriving (Show, Eq)\n",
    "\n",
    "\n",
    "North\n",
    "-- North\n",
    "\n",
    "North == South\n",
    "-- False\n",
    "```"
   ]
  },
  {
   "cell_type": "markdown",
   "metadata": {
    "slideshow": {
     "slide_type": "subslide"
    }
   },
   "source": [
    "### Which other typeclasses make sense for Direction?\n",
    "\n",
    "```haskell\n",
    "data Direction = North | East | South | West\n",
    "  deriving (Show, Eq, ???)\n",
    "```"
   ]
  },
  {
   "cell_type": "markdown",
   "metadata": {
    "slideshow": {
     "slide_type": "subslide"
    }
   },
   "source": [
    "### Which other typeclasses make sense for Direction?\n",
    "\n",
    "```haskell\n",
    "data Direction = North | East | South | West\n",
    "  deriving (Show, Eq, Enum)\n",
    "\n",
    "\n",
    "succ North\n",
    "-- East\n",
    "\n",
    "pred West\n",
    "--South\n",
    "```"
   ]
  },
  {
   "cell_type": "markdown",
   "metadata": {
    "slideshow": {
     "slide_type": "slide"
    }
   },
   "source": [
    "Fungi: [Biology classifications](https://www.google.com/search?q=kingdom+biology+wikipedia) and Typeclasses\n",
    "\n",
    "![kingdoms 1866](https://upload.wikimedia.org/wikipedia/commons/thumb/b/bc/Haeckel_arbol_bn.png/579px-Haeckel_arbol_bn.png)"
   ]
  },
  {
   "cell_type": "markdown",
   "metadata": {
    "slideshow": {
     "slide_type": "subslide"
    }
   },
   "source": [
    "🙅 Subtyping\n",
    "\n",
    "\n",
    "🙆‍ Typeclasses"
   ]
  },
  {
   "cell_type": "markdown",
   "metadata": {
    "slideshow": {
     "slide_type": "slide"
    }
   },
   "source": [
    "### Session Feedback\n",
    "\n",
    "I need your feedback to better tune this series of sessions\n",
    "Please ping me on Slack @fvitale"
   ]
  }
 ],
 "metadata": {
  "celltoolbar": "Slideshow",
  "kernelspec": {
   "display_name": "Python 3",
   "language": "python",
   "name": "python3"
  },
  "language_info": {
   "codemirror_mode": {
    "name": "ipython",
    "version": 3
   },
   "file_extension": ".py",
   "mimetype": "text/x-python",
   "name": "python",
   "nbconvert_exporter": "python",
   "pygments_lexer": "ipython3",
   "version": "3.6.4"
  }
 },
 "nbformat": 4,
 "nbformat_minor": 2
}
