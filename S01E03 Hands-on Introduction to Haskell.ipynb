{
 "cells": [
  {
   "cell_type": "markdown",
   "metadata": {
    "slideshow": {
     "slide_type": "slide"
    }
   },
   "source": [
    "### Recap\n",
    "\n",
    "#### Fibonacci Galore\n",
    "\n",
    "```python\n",
    "# python\n",
    "@functools.lru_cache()\n",
    "def fib(n):\n",
    "    ...\n",
    "```\n",
    "\n",
    "```haskell\n",
    "-- haskell\n",
    "fib 0 = 0\n",
    "fib 1 = 1\n",
    "--  n = fib     (n - 2) + fib     (n - 1)  -- <-- Drake says NO\n",
    "fib n = fibs !! (n - 2) + fibs !! (n - 1)  -- <-- Drake says YES\n",
    "\n",
    "fibs = map fib [0..]\n",
    "fibs !! 35\n",
    "```\n",
    "\n",
    "##### Canonical zipWith implementation\n",
    "```\n",
    "fibs = 0 : 1 : zipWith (+) fibs (tail fibs)\n",
    "\n",
    ":t zipWith\n",
    "-- zipWith :: (a -> b -> c) -> [a] -> [b] -> [c]\n",
    "```\n",
    "\n",
    "#### Count digits\n",
    "```haskell\n",
    ":t show\n",
    "-- show :: Show a => a -> String\n",
    "\n",
    "show 1234\n",
    "\n",
    ":t length\n",
    "-- length :: Foldable t => t a -> Int\n",
    "\n",
    "digits = length . show\n",
    "-- digits :: Show a => a -> Int\n",
    "```\n",
    "\n",
    "#### Solved Problem Euler 25\n",
    "```haskell\n",
    "fibs = 0 : 1 : zipWith (+) fibs (tail fibs) -- canonical implementation\n",
    "predicate n = digits n < 1000\n",
    "length $ takeWhile predicate fibs\n",
    "\n",
    "\n",
    "\n",
    "\n",
    "```\n",
    "\n",
    "```haskell\n",
    "fibs = 0 : 1 : zipWith (+) fibs (tail fibs) -- canonical implementation\n",
    "length $ takeWhile (< 10^999) fibs\n",
    "```"
   ]
  },
  {
   "cell_type": "markdown",
   "metadata": {
    "slideshow": {
     "slide_type": "slide"
    }
   },
   "source": [
    "### Ground Rules\n",
    "\n",
    "* 2 mutually-exclusive modes: 1 big conversation **or** multiple ones\n",
    "* a question is allowed anytime: __everybody can answer__ and answers could be postponed\n",
    "* no prejudice / no discrimination / no tech-fanaticism\n",
    "* experiment first, then abstraction and theory behind later"
   ]
  },
  {
   "cell_type": "markdown",
   "metadata": {
    "slideshow": {
     "slide_type": "notes"
    }
   },
   "source": [
    "# Work in Progress"
   ]
  },
  {
   "cell_type": "markdown",
   "metadata": {
    "slideshow": {
     "slide_type": "slide"
    }
   },
   "source": [
    "### Session Feedback\n",
    "\n",
    "I need your feedback to better tune this series of sessions\n",
    "Please ping me on Slack @fvitale"
   ]
  },
  {
   "cell_type": "markdown",
   "metadata": {
    "slideshow": {
     "slide_type": "notes"
    }
   },
   "source": [
    "\"How do we convince people that in programming simplicity and clarity\n",
    "—in short: what mathematicians call \"elegance\"— are not a dispensable luxury, \n",
    "but a crucial matter that decides between success and failure?\"\n",
    "\n",
    "–– [Edsger W. Dijkstra, 1982](https://www.cs.utexas.edu/users/EWD/transcriptions/EWD06xx/EWD648.html)"
   ]
  }
 ],
 "metadata": {
  "celltoolbar": "Slideshow",
  "kernelspec": {
   "display_name": "Haskell",
   "language": "haskell",
   "name": "haskell"
  },
  "language_info": {
   "codemirror_mode": "ihaskell",
   "file_extension": ".hs",
   "name": "haskell",
   "version": "8.2.2"
  }
 },
 "nbformat": 4,
 "nbformat_minor": 2
}
